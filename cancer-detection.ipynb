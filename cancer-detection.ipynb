{
 "cells": [
  {
   "cell_type": "markdown",
   "metadata": {},
   "source": [
    "# MSDS630 Advanced Machine Learning\n",
    "## Progress Report 3\n",
    "### Team Members \n",
    "* Lucia Page-Harley\n",
    "* Emre Okcular"
   ]
  },
  {
   "cell_type": "markdown",
   "metadata": {},
   "source": [
    "In this report different models is trained for each problem. In previous report HistGradientBoostingClassifier was used, XGBoost is increased our accuracy from 0.72794 to 0.74142 and submitted as final model.\n",
    "\n",
    "Neural Networks is widely examined for this problem. Since data size is low for and overfitting is significant, model did not perform well."
   ]
  },
  {
   "cell_type": "markdown",
   "metadata": {},
   "source": [
    "### Models\n",
    "1. XGBOOST (Hyperparam tuned for one problem)\n",
    "* preprocessing with SelectKBest(chi2,k=500) and SMOTE sampling \n",
    "2. NN\n",
    "* One Layer with Dropout, BatchNorm and WeightDecay"
   ]
  },
  {
   "cell_type": "code",
   "execution_count": 285,
   "metadata": {},
   "outputs": [],
   "source": [
    "import pandas as pd\n",
    "from sklearn.model_selection import train_test_split\n",
    "from sklearn.ensemble import GradientBoostingClassifier\n",
    "\n",
    "import rfpimp\n",
    "\n",
    "import matplotlib.pyplot as plt\n",
    "from sklearn.preprocessing import KBinsDiscretizer, QuantileTransformer, PolynomialFeatures\n",
    "\n",
    "from sklearn.pipeline import Pipeline \n",
    "from sklearn.ensemble import RandomForestClassifier\n",
    "from sklearn.linear_model import LogisticRegression, LogisticRegressionCV, RidgeClassifier,  RidgeClassifierCV\n",
    "from sklearn.model_selection import train_test_split\n",
    "from sklearn.metrics import accuracy_score, log_loss\n",
    "from sklearn.naive_bayes import MultinomialNB\n",
    "from sklearn.ensemble import ExtraTreesClassifier\n",
    "from sklearn.preprocessing import MinMaxScaler, StandardScaler, FunctionTransformer\n",
    "from sklearn.multiclass import OneVsRestClassifier\n",
    "from sklearn.svm import SVC\n",
    "\n",
    "from sklearn.model_selection    import RandomizedSearchCV\n",
    "\n",
    "from sklearn import set_config # For visualizing pipelines\n",
    "set_config(display='diagram')\n",
    "\n",
    "from sklearn.neighbors import KNeighborsClassifier\n",
    "from sklearn.ensemble import BaggingClassifier\n",
    "\n",
    "from sklearn.experimental import enable_hist_gradient_boosting  # noqa\n",
    "from sklearn.ensemble import HistGradientBoostingClassifier\n",
    "\n",
    "from imblearn.over_sampling import SMOTE\n",
    "from imblearn.pipeline import Pipeline\n",
    "\n",
    "from sklearn.feature_selection import VarianceThreshold\n",
    "from sklearn.feature_selection import SelectKBest, chi2\n",
    "from xgboost import XGBClassifier"
   ]
  },
  {
   "cell_type": "code",
   "execution_count": 286,
   "metadata": {},
   "outputs": [],
   "source": [
    "df = pd.read_csv('train_ml2_2021.csv')\n",
    "test = pd.read_csv('test0.csv')"
   ]
  },
  {
   "cell_type": "markdown",
   "metadata": {},
   "source": [
    "### 1. XGBOOST"
   ]
  },
  {
   "cell_type": "code",
   "execution_count": 287,
   "metadata": {},
   "outputs": [],
   "source": [
    "dfs = {}\n",
    "supports = []"
   ]
  },
  {
   "cell_type": "code",
   "execution_count": 288,
   "metadata": {
    "tags": []
   },
   "outputs": [],
   "source": [
    "for problem in df[\"problem_id\"].unique():\n",
    "    mask = df[\"problem_id\"]==problem\n",
    "    temp = df[mask]\n",
    "    \n",
    "    y=temp['target']\n",
    "    X=temp.drop(columns=['target',\"problem_id\"])\n",
    "    \n",
    "    X = pd.DataFrame(X)\n",
    "    X_train, X_val, y_train, y_val = train_test_split(X, y)\n",
    "\n",
    "    \n",
    "    dfs[problem] = {\"X_train\":X_train, \"X_val\":X_val, \"y_train\":y_train, \n",
    "                    \"y_val\":y_val,\"mask\":mask}    "
   ]
  },
  {
   "cell_type": "markdown",
   "metadata": {},
   "source": [
    "Below parameters is found with RandomizedSearchCV"
   ]
  },
  {
   "cell_type": "code",
   "execution_count": 327,
   "metadata": {},
   "outputs": [],
   "source": [
    "\n",
    "xgb_param = {'colsample_bytree': 0.5,\n",
    " 'learning_rate': 0.01,\n",
    " 'max_depth': 3,\n",
    " 'min_child_weight': 1,\n",
    " 'n_estimators': 500,\n",
    " 'subsample': 0.5,\n",
    " 'objective' : 'multi:softprob'}\n",
    "\n",
    "\n"
   ]
  },
  {
   "cell_type": "code",
   "execution_count": 298,
   "metadata": {
    "tags": []
   },
   "outputs": [],
   "source": [
    "models = {}\n",
    "acc = []\n",
    "for problem_id in dfs:\n",
    "    problem = dfs[problem_id]\n",
    "    xgb_param['num_class'] = problem[\"y_train\"].nunique()\n",
    "    pipe_imb = Pipeline([ (\"var\",SelectKBest(chi2, k=500)) ,\n",
    "                         (\"sampling\",SMOTE(n_jobs = -1,sampling_strategy=\"not majority\")),\n",
    "                         ('mnb', XGBClassifier(**xgb_param))])\n",
    "    \n",
    "    pipe_imb.fit(problem[\"X_train\"], problem[\"y_train\"])\n",
    "    models[problem_id] = pipe_imb\n",
    "    y_pred = pipe_imb.predict(problem[\"X_val\"])\n",
    "    acc.append(accuracy_score(problem[\"y_val\"],y_pred))"
   ]
  },
  {
   "cell_type": "markdown",
   "metadata": {},
   "source": [
    "#### Validation Accuracy (Mean of 21 Problems)"
   ]
  },
  {
   "cell_type": "code",
   "execution_count": 340,
   "metadata": {},
   "outputs": [
    {
     "data": {
      "text/plain": [
       "0.7536373218265895"
      ]
     },
     "execution_count": 340,
     "metadata": {},
     "output_type": "execute_result"
    }
   ],
   "source": [
    "sum(acc2) / float(len(acc2))"
   ]
  },
  {
   "cell_type": "markdown",
   "metadata": {},
   "source": [
    "#### Predicting"
   ]
  },
  {
   "cell_type": "code",
   "execution_count": 300,
   "metadata": {},
   "outputs": [],
   "source": [
    "test = pd.read_csv('test0.csv')\n",
    "X_test = test.drop(columns=['target',\"obs_id\"])\n",
    "y_test = test[\"target\"]"
   ]
  },
  {
   "cell_type": "code",
   "execution_count": 301,
   "metadata": {},
   "outputs": [],
   "source": [
    "test_dfs = {}"
   ]
  },
  {
   "cell_type": "code",
   "execution_count": 302,
   "metadata": {},
   "outputs": [],
   "source": [
    "te = y_test.copy()"
   ]
  },
  {
   "cell_type": "code",
   "execution_count": 303,
   "metadata": {},
   "outputs": [],
   "source": [
    "for problem_id in models:\n",
    "    model = models[problem_id]\n",
    "    mask = test[\"problem_id\"]==problem_id\n",
    "    temp = test[mask]\n",
    "    \n",
    "    y=temp['target']\n",
    "    X=temp.drop(columns=['target',\"obs_id\",\"problem_id\"])\n",
    "    y_pred = model.predict(X)\n",
    "    te[mask]=y_pred"
   ]
  },
  {
   "cell_type": "markdown",
   "metadata": {},
   "source": [
    "#### Submission"
   ]
  },
  {
   "cell_type": "code",
   "execution_count": 304,
   "metadata": {},
   "outputs": [],
   "source": [
    "test['target']=te"
   ]
  },
  {
   "cell_type": "code",
   "execution_count": 305,
   "metadata": {},
   "outputs": [],
   "source": [
    "submissions = test[['obs_id','target']]"
   ]
  },
  {
   "cell_type": "code",
   "execution_count": 306,
   "metadata": {},
   "outputs": [],
   "source": [
    "submissions.to_csv('submissions.csv', index=False)"
   ]
  },
  {
   "cell_type": "code",
   "execution_count": 307,
   "metadata": {},
   "outputs": [
    {
     "name": "stdout",
     "output_type": "stream",
     "text": [
      "100%|██████████████████████████████████████| 12.9k/12.9k [00:01<00:00, 6.82kB/s]\n",
      "Successfully submitted to ML2 USF 2021"
     ]
    }
   ],
   "source": [
    "! kaggle competitions submit -c ml2-usf-2021 -f submissions.csv -m \"xgb\""
   ]
  },
  {
   "cell_type": "markdown",
   "metadata": {},
   "source": [
    "### 2. NN"
   ]
  },
  {
   "cell_type": "markdown",
   "metadata": {},
   "source": [
    "### Read Data"
   ]
  },
  {
   "cell_type": "code",
   "execution_count": 2663,
   "metadata": {},
   "outputs": [],
   "source": [
    "df = pd.read_csv(\"train_ml2_2021.csv\")"
   ]
  },
  {
   "cell_type": "code",
   "execution_count": 2664,
   "metadata": {},
   "outputs": [],
   "source": [
    "y=df['target']\n",
    "X=df.drop(columns='target')"
   ]
  },
  {
   "cell_type": "code",
   "execution_count": 2665,
   "metadata": {},
   "outputs": [],
   "source": [
    "dfs_x = [X[X['problem_id']==i] for i in range(21)] \n",
    "dfs_y = [y[X['problem_id']==i] for i in range(21)] "
   ]
  },
  {
   "cell_type": "code",
   "execution_count": 2657,
   "metadata": {},
   "outputs": [],
   "source": [
    "test = pd.read_csv('test0.csv')\n",
    "X_test_all = test.drop(columns=['target',\"obs_id\"])\n",
    "y_test_all = test[\"target\"]"
   ]
  },
  {
   "cell_type": "code",
   "execution_count": 2658,
   "metadata": {},
   "outputs": [],
   "source": [
    "dfs_x_test = [X_test_all[X_test_all['problem_id']==i] for i in range(21)] \n",
    "dfs_y_test = [y_test_all[X_test_all['problem_id']==i] for i in range(21)] "
   ]
  },
  {
   "cell_type": "code",
   "execution_count": 2688,
   "metadata": {},
   "outputs": [],
   "source": [
    "X_train, X_val, y_train, y_val = train_test_split(dfs_x[1], dfs_y[1], test_size=0.2, stratify=dfs_y[1], random_state=21)\n",
    "X_test = dfs_x_test[1]\n",
    "y_test = dfs_y_test[1]"
   ]
  },
  {
   "cell_type": "code",
   "execution_count": 2667,
   "metadata": {},
   "outputs": [
    {
     "data": {
      "text/plain": [
       "277"
      ]
     },
     "execution_count": 2667,
     "metadata": {},
     "output_type": "execute_result"
    }
   ],
   "source": [
    "len(y_train)"
   ]
  },
  {
   "cell_type": "markdown",
   "metadata": {},
   "source": [
    "### Find top 30 features using rfpimp"
   ]
  },
  {
   "cell_type": "code",
   "execution_count": 2689,
   "metadata": {},
   "outputs": [],
   "source": [
    "rf = RandomForestClassifier(oob_score=True)\n",
    "rf.fit(X_train, y_train)\n",
    "imps = rfpimp.importances(rf, X_val, y_val)\n",
    "imps['rank'] = imps['Importance'].rank()\n",
    "top30 = list(imps.sort_values('rank').iloc[:30].index)\n",
    "X_train = X_train[top30]\n",
    "X_val = X_val[top30]\n",
    "X_test = X_test[top30]"
   ]
  },
  {
   "cell_type": "markdown",
   "metadata": {},
   "source": [
    "### Normalize"
   ]
  },
  {
   "cell_type": "code",
   "execution_count": 2690,
   "metadata": {},
   "outputs": [],
   "source": [
    "def normalize(X_train, X_val, y_train, y_val, X_test, y_test):\n",
    "    scaler = MinMaxScaler()\n",
    "    X_train = scaler.fit_transform(X_train)\n",
    "    X_val = scaler.transform(X_val)\n",
    "    X_test = scaler.transform(X_test)\n",
    "\n",
    "    X_train, y_train = np.array(X_train), np.array(y_train)\n",
    "    X_val, y_val = np.array(X_val), np.array(y_val)\n",
    "    X_test, y_test = np.array(X_test), np.array(y_test)\n",
    "    return X_train, X_val, y_train, y_val, X_test, y_test"
   ]
  },
  {
   "cell_type": "code",
   "execution_count": 2691,
   "metadata": {},
   "outputs": [],
   "source": [
    "X_train, X_val, y_train, y_val, X_test, y_test = normalize(X_train, X_val, y_train, y_val, X_test, y_test)"
   ]
  },
  {
   "cell_type": "code",
   "execution_count": 2692,
   "metadata": {},
   "outputs": [],
   "source": [
    "class CancerDataset(Dataset):\n",
    "    \n",
    "    def __init__(self, X_data, y_data):\n",
    "        self.X_data = X_data\n",
    "        self.y_data = y_data\n",
    "        \n",
    "    def __getitem__(self, index):\n",
    "        return self.X_data[index], self.y_data[index]\n",
    "        \n",
    "    def __len__ (self):\n",
    "        return len(self.X_data)"
   ]
  },
  {
   "cell_type": "code",
   "execution_count": 2693,
   "metadata": {},
   "outputs": [],
   "source": [
    "def get_datasets(X_train, X_val, y_train, y_val, X_test, y_test):\n",
    "    train_dataset = CancerDataset(torch.from_numpy(X_train).float(), torch.from_numpy(y_train).long())\n",
    "    val_dataset = CancerDataset(torch.from_numpy(X_val).float(), torch.from_numpy(y_val).long())\n",
    "    test_dataset = CancerDataset(torch.from_numpy(X_test).float(), torch.from_numpy(y_test).long())\n",
    "    return train_dataset, val_dataset, test_dataset"
   ]
  },
  {
   "cell_type": "code",
   "execution_count": 2694,
   "metadata": {},
   "outputs": [],
   "source": [
    "train_dataset, val_dataset, test_dataset = get_datasets(X_train, X_val, y_train, y_val, X_test, y_test)"
   ]
  },
  {
   "cell_type": "markdown",
   "metadata": {},
   "source": [
    "### Over-sampling with WeightedRandomSampler"
   ]
  },
  {
   "cell_type": "code",
   "execution_count": 2695,
   "metadata": {},
   "outputs": [],
   "source": [
    "def over_sample(train_dataset, y_train):\n",
    "    class_count = None #reset\n",
    "    target_list = []\n",
    "    for _, t in train_dataset:\n",
    "        target_list.append(t)\n",
    "\n",
    "    target_list = torch.tensor(target_list)\n",
    "    target_list = target_list[torch.randperm(len(target_list))]\n",
    "    c = Counter(y_train)\n",
    "    class_count = [i for i in [i[1] for i in sorted(c.items())]]\n",
    "    class_weights = 1./torch.tensor(class_count, dtype=torch.float) \n",
    "    class_weights_all = class_weights[target_list]\n",
    "    weighted_sampler = WeightedRandomSampler(\n",
    "    weights=class_weights_all,\n",
    "    num_samples=len(class_weights_all),\n",
    "    replacement=True\n",
    "    )\n",
    "    return class_weights, weighted_sampler"
   ]
  },
  {
   "cell_type": "code",
   "execution_count": 2696,
   "metadata": {},
   "outputs": [],
   "source": [
    "class_weights, weighted_sampler = over_sample(train_dataset, y_train)"
   ]
  },
  {
   "cell_type": "markdown",
   "metadata": {},
   "source": [
    "### Model Parameters"
   ]
  },
  {
   "cell_type": "code",
   "execution_count": 2697,
   "metadata": {},
   "outputs": [],
   "source": [
    "EPOCHS = 30\n",
    "BATCH_SIZE = 8\n",
    "LEARNING_RATE = 0.001\n",
    "NUM_FEATURES = 30\n",
    "NUM_CLASSES = len(np.unique(y_train))\n",
    "DROPOUT = 0.7\n",
    "M = 2 # Number of neurons\n",
    "WEIGHT_DECAY = 0.7"
   ]
  },
  {
   "cell_type": "code",
   "execution_count": 2698,
   "metadata": {},
   "outputs": [],
   "source": [
    "kwargs = {'num_workers': 4, 'pin_memory': True} "
   ]
  },
  {
   "cell_type": "code",
   "execution_count": 2699,
   "metadata": {},
   "outputs": [],
   "source": [
    "def make_loaders(train_dataset, val_dataset, test_dataset, sampler):\n",
    "    train_loader = DataLoader(dataset=train_dataset,\n",
    "                              batch_size=BATCH_SIZE,\n",
    "                              sampler=weighted_sampler,drop_last=True\n",
    "    )\n",
    "    val_loader = DataLoader(dataset=val_dataset,shuffle=True, batch_size=1)\n",
    "    test_loader = DataLoader(dataset=test_dataset, batch_size=1)\n",
    "    return train_loader, val_loader, test_loader"
   ]
  },
  {
   "cell_type": "code",
   "execution_count": 2700,
   "metadata": {},
   "outputs": [],
   "source": [
    "train_loader, val_loader, test_loader = make_loaders(train_dataset, val_dataset, test_dataset, weighted_sampler)"
   ]
  },
  {
   "cell_type": "markdown",
   "metadata": {},
   "source": [
    "### Network Architecture"
   ]
  },
  {
   "cell_type": "code",
   "execution_count": 2701,
   "metadata": {},
   "outputs": [],
   "source": [
    "class MulticlassClassification(nn.Module):\n",
    "    def __init__(self, num_feature, num_class,d,M):\n",
    "        super(MulticlassClassification, self).__init__()\n",
    "        \n",
    "        self.layer_1 = nn.Linear(num_feature, M)\n",
    "#        self.layer_2 = nn.Linear(M, 100)\n",
    "#         self.layer_3 = nn.Linear(100, 64)\n",
    "        self.layer_out = nn.Linear(M, num_class) \n",
    "        \n",
    "        self.relu = nn.ReLU()\n",
    "        self.dropout = nn.Dropout(p=d)\n",
    "        self.batchnorm1 = nn.BatchNorm1d(M)\n",
    "#         self.batchnorm2 = nn.BatchNorm1d(100)\n",
    "        self.batchnorm3 = nn.BatchNorm1d(64)\n",
    "        \n",
    "    def forward(self, x):\n",
    "        x = self.layer_1(x)\n",
    "        x = self.batchnorm1(x)\n",
    "        x = self.relu(x)\n",
    "        x = self.dropout(x)\n",
    "        \n",
    "#         x = self.layer_2(x)\n",
    "#         x = self.batchnorm2(x)\n",
    "#         x = self.relu(x)\n",
    "#         x = self.dropout(x)\n",
    "        \n",
    "#         x = self.layer_3(x)\n",
    "#         x = self.batchnorm3(x)\n",
    "#         x = self.relu(x)\n",
    "#         x = self.dropout(x)\n",
    "        \n",
    "        x = self.layer_out(x)\n",
    "        \n",
    "        return x"
   ]
  },
  {
   "cell_type": "code",
   "execution_count": 2702,
   "metadata": {},
   "outputs": [],
   "source": [
    "def multi_acc(y_pred, y_test):\n",
    "    y_pred_softmax = torch.log_softmax(y_pred, dim = 1)\n",
    "    _, y_pred_tags = torch.max(y_pred_softmax, dim = 1)    \n",
    "    \n",
    "    correct_pred = (y_pred_tags == y_test).float()\n",
    "    acc = correct_pred.sum() / len(correct_pred)\n",
    "    \n",
    "    acc = torch.round(acc * 100)\n",
    "    \n",
    "    return acc"
   ]
  },
  {
   "cell_type": "code",
   "execution_count": 2703,
   "metadata": {},
   "outputs": [],
   "source": [
    "accuracy_stats = {\n",
    "    'train': [],\n",
    "    \"val\": []\n",
    "}\n",
    "loss_stats = {\n",
    "    'train': [],\n",
    "    \"val\": []\n",
    "}"
   ]
  },
  {
   "cell_type": "code",
   "execution_count": 2704,
   "metadata": {},
   "outputs": [],
   "source": [
    "writer = SummaryWriter() # For Tensorboard"
   ]
  },
  {
   "cell_type": "markdown",
   "metadata": {},
   "source": [
    "```tensorboard --logdir runs```"
   ]
  },
  {
   "cell_type": "markdown",
   "metadata": {},
   "source": [
    "0: EPOCHS = 20\n",
    "BATCH_SIZE = 8\n",
    "1: EPOCHS = 9\n",
    "BATCH_SIZE = 4\n",
    "2. EPOCHS = 30\n",
    "BATCH_SIZE = 8\n",
    "3. EPOCHS = 30\n",
    "BATCH_SIZE = 8\n",
    "4. EPOCHS = 30\n",
    "BATCH_SIZE = 8\n",
    "5.EPOCHS = 30\n",
    "BATCH_SIZE = 15\n",
    "6.EPOCHS = 15\n",
    "BATCH_SIZE = 5\n",
    "7.EPOCHS = 25\n",
    "BATCH_SIZE = 5\n",
    "8.EPOCHS = 18\n",
    "BATCH_SIZE = 4\n",
    "9.EPOCHS = 18\n",
    "BATCH_SIZE = 5\n",
    "10.EPOCHS = 18\n",
    "BATCH_SIZE = 5\n",
    "11.EPOCHS = 20\n",
    "BATCH_SIZE = 5\n",
    "12.EPOCHS = 20\n",
    "BATCH_SIZE = 8\n",
    "13.EPOCHS = 20\n",
    "BATCH_SIZE = 4\n",
    "14.EPOCHS = 25\n",
    "BATCH_SIZE = 5\n",
    "15.EPOCHS = 20\n",
    "BATCH_SIZE = 5\n",
    "16.EPOCHS = 25\n",
    "BATCH_SIZE = 4\n",
    "17.EPOCHS = 50\n",
    "BATCH_SIZE = 8\n",
    "18.EPOCHS = 33\n",
    "BATCH_SIZE = 12\n",
    "19.EPOCHS = 25\n",
    "BATCH_SIZE = 5\n",
    "20.EPOCHS = 15\n",
    "BATCH_SIZE = 5\n",
    "\n",
    "epochs = [20,9,30,30,30,30,15,25,18,18,18,20,20,20,25,20,25,50,33,25,15]\n",
    "batch = [8,4,8,8,8,15,5,5,4,5,5,5,8,4,5,5,4,8,12,5,5]"
   ]
  },
  {
   "cell_type": "code",
   "execution_count": 2705,
   "metadata": {},
   "outputs": [
    {
     "name": "stdout",
     "output_type": "stream",
     "text": [
      "Begin training.\n"
     ]
    },
    {
     "data": {
      "application/vnd.jupyter.widget-view+json": {
       "model_id": "d6a442df6ffd48aab64a99b648552fef",
       "version_major": 2,
       "version_minor": 0
      },
      "text/plain": [
       "  0%|          | 0/30 [00:00<?, ?it/s]"
      ]
     },
     "metadata": {},
     "output_type": "display_data"
    },
    {
     "name": "stdout",
     "output_type": "stream",
     "text": [
      "Epoch 001: | Train Loss: 1.53045 | Val Loss: 1.45797 | Train Acc: 38.525| Val Acc: 14.634\n",
      "Epoch 002: | Train Loss: 1.54391 | Val Loss: 1.53694 | Train Acc: 37.225| Val Acc: 14.634\n",
      "Epoch 003: | Train Loss: 1.53979 | Val Loss: 1.46770 | Train Acc: 33.825| Val Acc: 15.854\n",
      "Epoch 004: | Train Loss: 1.51094 | Val Loss: 1.43516 | Train Acc: 32.150| Val Acc: 18.293\n",
      "Epoch 005: | Train Loss: 1.46654 | Val Loss: 1.42928 | Train Acc: 38.500| Val Acc: 19.512\n",
      "Epoch 006: | Train Loss: 1.42469 | Val Loss: 1.42081 | Train Acc: 36.925| Val Acc: 20.732\n",
      "Epoch 007: | Train Loss: 1.43972 | Val Loss: 1.40555 | Train Acc: 41.650| Val Acc: 23.171\n",
      "Epoch 008: | Train Loss: 1.36550 | Val Loss: 1.39376 | Train Acc: 44.100| Val Acc: 21.951\n",
      "Epoch 009: | Train Loss: 1.39214 | Val Loss: 1.39484 | Train Acc: 39.450| Val Acc: 19.512\n",
      "Epoch 010: | Train Loss: 1.36578 | Val Loss: 1.39172 | Train Acc: 43.150| Val Acc: 19.512\n",
      "Epoch 011: | Train Loss: 1.38776 | Val Loss: 1.37949 | Train Acc: 38.775| Val Acc: 23.171\n",
      "Epoch 012: | Train Loss: 1.40344 | Val Loss: 1.37170 | Train Acc: 38.125| Val Acc: 30.488\n",
      "Epoch 013: | Train Loss: 1.35971 | Val Loss: 1.37233 | Train Acc: 45.000| Val Acc: 26.829\n",
      "Epoch 014: | Train Loss: 1.35155 | Val Loss: 1.38107 | Train Acc: 41.575| Val Acc: 19.512\n",
      "Epoch 015: | Train Loss: 1.36577 | Val Loss: 1.37381 | Train Acc: 50.225| Val Acc: 25.610\n",
      "Epoch 016: | Train Loss: 1.37986 | Val Loss: 1.37016 | Train Acc: 41.675| Val Acc: 25.610\n",
      "Epoch 017: | Train Loss: 1.36921 | Val Loss: 1.37148 | Train Acc: 38.725| Val Acc: 26.829\n",
      "Epoch 018: | Train Loss: 1.37755 | Val Loss: 1.37304 | Train Acc: 36.925| Val Acc: 23.171\n",
      "Epoch 019: | Train Loss: 1.37165 | Val Loss: 1.36925 | Train Acc: 47.750| Val Acc: 32.927\n",
      "Epoch 020: | Train Loss: 1.38500 | Val Loss: 1.36464 | Train Acc: 38.500| Val Acc: 35.366\n",
      "Epoch 021: | Train Loss: 1.37075 | Val Loss: 1.36280 | Train Acc: 46.550| Val Acc: 40.244\n",
      "Epoch 022: | Train Loss: 1.37368 | Val Loss: 1.36198 | Train Acc: 45.375| Val Acc: 40.244\n",
      "Epoch 023: | Train Loss: 1.36695 | Val Loss: 1.36151 | Train Acc: 43.250| Val Acc: 41.463\n",
      "Epoch 024: | Train Loss: 1.37375 | Val Loss: 1.36473 | Train Acc: 44.700| Val Acc: 41.463\n",
      "Epoch 025: | Train Loss: 1.37522 | Val Loss: 1.36381 | Train Acc: 48.175| Val Acc: 42.683\n",
      "Epoch 026: | Train Loss: 1.37627 | Val Loss: 1.36591 | Train Acc: 45.575| Val Acc: 43.902\n",
      "Epoch 027: | Train Loss: 1.37803 | Val Loss: 1.36878 | Train Acc: 47.875| Val Acc: 42.683\n",
      "Epoch 028: | Train Loss: 1.37614 | Val Loss: 1.36834 | Train Acc: 49.700| Val Acc: 43.902\n",
      "Epoch 029: | Train Loss: 1.38034 | Val Loss: 1.36979 | Train Acc: 46.400| Val Acc: 45.122\n",
      "Epoch 030: | Train Loss: 1.37840 | Val Loss: 1.37218 | Train Acc: 46.850| Val Acc: 45.122\n"
     ]
    }
   ],
   "source": [
    "model = MulticlassClassification(num_feature = NUM_FEATURES, num_class=NUM_CLASSES,d=DROPOUT,M=M)\n",
    "criterion = nn.CrossEntropyLoss(weight=class_weights)\n",
    "optimizer = optim.Adam(model.parameters(), lr=LEARNING_RATE,weight_decay = WEIGHT_DECAY)\n",
    "print(\"Begin training.\")\n",
    "for e in tqdm(range(1, EPOCHS+1)):\n",
    "    \n",
    "    # TRAINING\n",
    "    train_epoch_loss = 0\n",
    "    train_epoch_acc = 0\n",
    "    model.train()\n",
    "    for X_train_batch, y_train_batch in train_loader:\n",
    "        X_train_batch, y_train_batch = X_train_batch, y_train_batch\n",
    "        optimizer.zero_grad()\n",
    "        y_train_pred = model(X_train_batch)\n",
    "\n",
    "        train_loss = criterion(y_train_pred, y_train_batch)\n",
    "        train_acc = multi_acc(y_train_pred, y_train_batch)\n",
    "        \n",
    "        train_loss.backward()\n",
    "        optimizer.step()\n",
    "        \n",
    "        train_epoch_loss += train_loss.item()\n",
    "        train_epoch_acc += train_acc.item()\n",
    "        \n",
    "        \n",
    "    # VALIDATION    \n",
    "    with torch.no_grad():\n",
    "        \n",
    "        val_epoch_loss = 0\n",
    "        val_epoch_acc = 0\n",
    "        \n",
    "        model.eval()\n",
    "        for X_val_batch, y_val_batch in val_loader:\n",
    "            X_val_batch, y_val_batch = X_val_batch, y_val_batch\n",
    "            \n",
    "            y_val_pred = model(X_val_batch)\n",
    "            val_loss = criterion(y_val_pred, y_val_batch)\n",
    "            val_acc = multi_acc(y_val_pred, y_val_batch)\n",
    "            \n",
    "            val_epoch_loss += val_loss.item()\n",
    "            val_epoch_acc += val_acc.item()\n",
    "\n",
    "    writer.add_scalar(\"train_loss\", train_epoch_loss/len(train_loader), e) # For Tensorboard\n",
    "    writer.add_scalar(\"val_loss\", val_epoch_loss/len(val_loader), e) # For Tensorboard\n",
    "    writer.add_scalar(\"train_acc\",train_epoch_acc/len(train_loader), e) # For Tensorboard\n",
    "    writer.add_scalar(\"val_acc\", val_epoch_acc/len(val_loader), e) # For Tensorboard\n",
    "    loss_stats['train'].append(train_epoch_loss/len(train_loader))\n",
    "    loss_stats['val'].append(val_epoch_loss/len(val_loader))\n",
    "    accuracy_stats['train'].append(train_epoch_acc/len(train_loader))\n",
    "    accuracy_stats['val'].append(val_epoch_acc/len(val_loader))\n",
    "                              \n",
    "    \n",
    "    print(f'Epoch {e+0:03}: | Train Loss: {train_epoch_loss/len(train_loader):.5f} | Val Loss: {val_epoch_loss/len(val_loader):.5f} | Train Acc: {train_epoch_acc/len(train_loader):.3f}| Val Acc: {val_epoch_acc/len(val_loader):.3f}')\n",
    "    \n",
    "writer.flush() # For Tensorboard\n",
    "writer.close() # For Tensorboard"
   ]
  },
  {
   "cell_type": "code",
   "execution_count": 2706,
   "metadata": {
    "tags": []
   },
   "outputs": [
    {
     "data": {
      "text/plain": [
       "Text(0.5, 1.0, 'Train-Val Loss/Epoch')"
      ]
     },
     "execution_count": 2706,
     "metadata": {},
     "output_type": "execute_result"
    },
    {
     "data": {
      "image/png": "[encoded data removed]",
      "text/plain": [
       "<Figure size 1440x504 with 2 Axes>"
      ]
     },
     "metadata": {
      "needs_background": "light"
     },
     "output_type": "display_data"
    }
   ],
   "source": [
    "train_val_acc_df = pd.DataFrame.from_dict(accuracy_stats).reset_index().melt(id_vars=['index']).rename(columns={\"index\":\"epochs\"})\n",
    "train_val_loss_df = pd.DataFrame.from_dict(loss_stats).reset_index().melt(id_vars=['index']).rename(columns={\"index\":\"epochs\"})\n",
    "# Plot the dataframes\n",
    "fig, axes = plt.subplots(nrows=1, ncols=2, figsize=(20,7))\n",
    "sns.lineplot(data=train_val_acc_df, x = \"epochs\", y=\"value\", hue=\"variable\",  ax=axes[0]).set_title('Train-Val Accuracy/Epoch')\n",
    "sns.lineplot(data=train_val_loss_df, x = \"epochs\", y=\"value\", hue=\"variable\", ax=axes[1]).set_title('Train-Val Loss/Epoch')"
   ]
  },
  {
   "cell_type": "markdown",
   "metadata": {},
   "source": [
    "### Predicting Test Data"
   ]
  },
  {
   "cell_type": "code",
   "execution_count": 2187,
   "metadata": {
    "tags": []
   },
   "outputs": [],
   "source": [
    "y_pred_list = []\n",
    "with torch.no_grad():\n",
    "    model.eval()\n",
    "    for X_batch, _ in test_loader:\n",
    "        y_test_pred = model(X_batch)\n",
    "        _, y_pred_tags = torch.max(y_test_pred, dim = 1)\n",
    "        y_pred_list.append(y_pred_tags.numpy())\n",
    "y_pred_list = [a.squeeze().tolist() for a in y_pred_list]"
   ]
  },
  {
   "cell_type": "code",
   "execution_count": 2188,
   "metadata": {},
   "outputs": [
    {
     "name": "stdout",
     "output_type": "stream",
     "text": [
      "TEST ACCURACY :  0.73\n"
     ]
    }
   ],
   "source": [
    "print(\"TEST ACCURACY : \",round(accuracy_score(y_test,y_pred_list),5))"
   ]
  },
  {
   "cell_type": "markdown",
   "metadata": {},
   "source": [
    "### Visualization"
   ]
  },
  {
   "cell_type": "code",
   "execution_count": 2707,
   "metadata": {},
   "outputs": [],
   "source": [
    "class_idx = {0:0, 1:1, 2:2, 3:3, 4:4, 5:5}"
   ]
  },
  {
   "cell_type": "code",
   "execution_count": 2708,
   "metadata": {},
   "outputs": [
    {
     "data": {
      "text/plain": [
       "<AxesSubplot:>"
      ]
     },
     "execution_count": 2708,
     "metadata": {},
     "output_type": "execute_result"
    },
    {
     "data": {
      "image/png": "[encoded data removed]",
      "text/plain": [
       "<Figure size 432x288 with 2 Axes>"
      ]
     },
     "metadata": {
      "needs_background": "light"
     },
     "output_type": "display_data"
    }
   ],
   "source": [
    "confusion_matrix_df = pd.DataFrame(confusion_matrix(y_test, y_pred_list)).rename(columns=class_idx, index=class_idx)\n",
    "\n",
    "sns.heatmap(confusion_matrix_df, annot=True)"
   ]
  },
  {
   "cell_type": "code",
   "execution_count": 2709,
   "metadata": {
    "tags": []
   },
   "outputs": [
    {
     "name": "stdout",
     "output_type": "stream",
     "text": [
      "              precision    recall  f1-score   support\n",
      "\n",
      "           0       1.00      1.00      1.00       100\n",
      "\n",
      "    accuracy                           1.00       100\n",
      "   macro avg       1.00      1.00      1.00       100\n",
      "weighted avg       1.00      1.00      1.00       100\n",
      "\n"
     ]
    }
   ],
   "source": [
    "print(classification_report(y_test, y_pred_list))"
   ]
  },
  {
   "cell_type": "markdown",
   "metadata": {},
   "source": [
    "# Running all 21 models"
   ]
  },
  {
   "cell_type": "code",
   "execution_count": 279,
   "metadata": {},
   "outputs": [],
   "source": [
    "def fit_predict(model, optimizer, criterion, train_loader):\n",
    "    for e in tqdm(range(1, EPOCHS+1)):\n",
    "    \n",
    "        # TRAINING\n",
    "        train_epoch_loss = 0\n",
    "        train_epoch_acc = 0\n",
    "        model.train()\n",
    "        for X_train_batch, y_train_batch in train_loader:\n",
    "            X_train_batch, y_train_batch = X_train_batch, y_train_batch\n",
    "            optimizer.zero_grad()\n",
    "\n",
    "            y_train_pred = model(X_train_batch)\n",
    "\n",
    "            train_loss = criterion(y_train_pred, y_train_batch)\n",
    "            train_acc = multi_acc(y_train_pred, y_train_batch)\n",
    "\n",
    "            train_loss.backward()\n",
    "            optimizer.step()\n",
    "\n",
    "            train_epoch_loss += train_loss.item()\n",
    "            train_epoch_acc += train_acc.item()\n",
    "    y_pred_list = []\n",
    "    with torch.no_grad():\n",
    "        model.eval()\n",
    "        for X_batch, _ in test_loader:\n",
    "            y_test_pred = model(X_batch)\n",
    "            _, y_pred_tags = torch.max(y_test_pred, dim = 1)\n",
    "            y_pred_list.append(y_pred_tags.numpy())\n",
    "    y_pred_list = [a.squeeze().tolist() for a in y_pred_list]\n",
    "    return y_pred_list"
   ]
  },
  {
   "cell_type": "code",
   "execution_count": 2652,
   "metadata": {},
   "outputs": [
    {
     "name": "stdout",
     "output_type": "stream",
     "text": [
      "working on model 0\n"
     ]
    },
    {
     "data": {
      "application/vnd.jupyter.widget-view+json": {
       "model_id": "dfcc36e452624a82ac7e494784518c67",
       "version_major": 2,
       "version_minor": 0
      },
      "text/plain": [
       "  0%|          | 0/20 [00:00<?, ?it/s]"
      ]
     },
     "metadata": {},
     "output_type": "display_data"
    },
    {
     "name": "stdout",
     "output_type": "stream",
     "text": [
      "working on model 1\n"
     ]
    },
    {
     "data": {
      "application/vnd.jupyter.widget-view+json": {
       "model_id": "5534513b67bc4fcaa7c62000ae2b3f9e",
       "version_major": 2,
       "version_minor": 0
      },
      "text/plain": [
       "  0%|          | 0/9 [00:00<?, ?it/s]"
      ]
     },
     "metadata": {},
     "output_type": "display_data"
    },
    {
     "name": "stdout",
     "output_type": "stream",
     "text": [
      "working on model 2\n"
     ]
    },
    {
     "data": {
      "application/vnd.jupyter.widget-view+json": {
       "model_id": "1fa07c75325a4e30932f75850574f833",
       "version_major": 2,
       "version_minor": 0
      },
      "text/plain": [
       "  0%|          | 0/30 [00:00<?, ?it/s]"
      ]
     },
     "metadata": {},
     "output_type": "display_data"
    },
    {
     "name": "stdout",
     "output_type": "stream",
     "text": [
      "working on model 3\n"
     ]
    },
    {
     "data": {
      "application/vnd.jupyter.widget-view+json": {
       "model_id": "1e7265c86a7d4b0fb2b6725e53112ff9",
       "version_major": 2,
       "version_minor": 0
      },
      "text/plain": [
       "  0%|          | 0/30 [00:00<?, ?it/s]"
      ]
     },
     "metadata": {},
     "output_type": "display_data"
    },
    {
     "name": "stdout",
     "output_type": "stream",
     "text": [
      "working on model 4\n"
     ]
    },
    {
     "data": {
      "application/vnd.jupyter.widget-view+json": {
       "model_id": "2e0247218546434b8b3ce52e027a0231",
       "version_major": 2,
       "version_minor": 0
      },
      "text/plain": [
       "  0%|          | 0/30 [00:00<?, ?it/s]"
      ]
     },
     "metadata": {},
     "output_type": "display_data"
    },
    {
     "name": "stdout",
     "output_type": "stream",
     "text": [
      "working on model 5\n"
     ]
    },
    {
     "data": {
      "application/vnd.jupyter.widget-view+json": {
       "model_id": "b40103f92d7042d09f7e20926315d645",
       "version_major": 2,
       "version_minor": 0
      },
      "text/plain": [
       "  0%|          | 0/30 [00:00<?, ?it/s]"
      ]
     },
     "metadata": {},
     "output_type": "display_data"
    },
    {
     "name": "stdout",
     "output_type": "stream",
     "text": [
      "working on model 6\n"
     ]
    },
    {
     "data": {
      "application/vnd.jupyter.widget-view+json": {
       "model_id": "8ea41cc808124be3b12a62219b634817",
       "version_major": 2,
       "version_minor": 0
      },
      "text/plain": [
       "  0%|          | 0/15 [00:00<?, ?it/s]"
      ]
     },
     "metadata": {},
     "output_type": "display_data"
    },
    {
     "name": "stdout",
     "output_type": "stream",
     "text": [
      "working on model 7\n"
     ]
    },
    {
     "data": {
      "application/vnd.jupyter.widget-view+json": {
       "model_id": "a8f0e0488f314be783eae34ee2f346e1",
       "version_major": 2,
       "version_minor": 0
      },
      "text/plain": [
       "  0%|          | 0/25 [00:00<?, ?it/s]"
      ]
     },
     "metadata": {},
     "output_type": "display_data"
    },
    {
     "name": "stdout",
     "output_type": "stream",
     "text": [
      "working on model 8\n"
     ]
    },
    {
     "data": {
      "application/vnd.jupyter.widget-view+json": {
       "model_id": "b6576a89411f45e3a5a98eb528123e42",
       "version_major": 2,
       "version_minor": 0
      },
      "text/plain": [
       "  0%|          | 0/18 [00:00<?, ?it/s]"
      ]
     },
     "metadata": {},
     "output_type": "display_data"
    },
    {
     "name": "stdout",
     "output_type": "stream",
     "text": [
      "working on model 9\n"
     ]
    },
    {
     "data": {
      "application/vnd.jupyter.widget-view+json": {
       "model_id": "b2a21de293a34c76867e9c24d0841297",
       "version_major": 2,
       "version_minor": 0
      },
      "text/plain": [
       "  0%|          | 0/18 [00:00<?, ?it/s]"
      ]
     },
     "metadata": {},
     "output_type": "display_data"
    },
    {
     "name": "stdout",
     "output_type": "stream",
     "text": [
      "working on model 10\n"
     ]
    },
    {
     "data": {
      "application/vnd.jupyter.widget-view+json": {
       "model_id": "b49a9a6a156f475dadb5871d48b4a50f",
       "version_major": 2,
       "version_minor": 0
      },
      "text/plain": [
       "  0%|          | 0/18 [00:00<?, ?it/s]"
      ]
     },
     "metadata": {},
     "output_type": "display_data"
    },
    {
     "name": "stdout",
     "output_type": "stream",
     "text": [
      "working on model 11\n"
     ]
    },
    {
     "data": {
      "application/vnd.jupyter.widget-view+json": {
       "model_id": "b07e4b01a0774b1d93457b38bcb383ae",
       "version_major": 2,
       "version_minor": 0
      },
      "text/plain": [
       "  0%|          | 0/20 [00:00<?, ?it/s]"
      ]
     },
     "metadata": {},
     "output_type": "display_data"
    },
    {
     "name": "stdout",
     "output_type": "stream",
     "text": [
      "working on model 12\n"
     ]
    },
    {
     "data": {
      "application/vnd.jupyter.widget-view+json": {
       "model_id": "c57d76e807ab4404bc47038da650ae3b",
       "version_major": 2,
       "version_minor": 0
      },
      "text/plain": [
       "  0%|          | 0/20 [00:00<?, ?it/s]"
      ]
     },
     "metadata": {},
     "output_type": "display_data"
    },
    {
     "name": "stdout",
     "output_type": "stream",
     "text": [
      "working on model 13\n"
     ]
    },
    {
     "data": {
      "application/vnd.jupyter.widget-view+json": {
       "model_id": "f2362071c0fb4cae978f978e28482c95",
       "version_major": 2,
       "version_minor": 0
      },
      "text/plain": [
       "  0%|          | 0/20 [00:00<?, ?it/s]"
      ]
     },
     "metadata": {},
     "output_type": "display_data"
    },
    {
     "name": "stdout",
     "output_type": "stream",
     "text": [
      "working on model 14\n"
     ]
    },
    {
     "data": {
      "application/vnd.jupyter.widget-view+json": {
       "model_id": "6952058f584144988b7424127211003e",
       "version_major": 2,
       "version_minor": 0
      },
      "text/plain": [
       "  0%|          | 0/25 [00:00<?, ?it/s]"
      ]
     },
     "metadata": {},
     "output_type": "display_data"
    },
    {
     "name": "stdout",
     "output_type": "stream",
     "text": [
      "working on model 15\n"
     ]
    },
    {
     "data": {
      "application/vnd.jupyter.widget-view+json": {
       "model_id": "70c560b908214b7bba6dcfb0ea3397d0",
       "version_major": 2,
       "version_minor": 0
      },
      "text/plain": [
       "  0%|          | 0/20 [00:00<?, ?it/s]"
      ]
     },
     "metadata": {},
     "output_type": "display_data"
    },
    {
     "name": "stdout",
     "output_type": "stream",
     "text": [
      "working on model 16\n"
     ]
    },
    {
     "data": {
      "application/vnd.jupyter.widget-view+json": {
       "model_id": "13e8e840459b4de3bb4c3d0ebf323d82",
       "version_major": 2,
       "version_minor": 0
      },
      "text/plain": [
       "  0%|          | 0/25 [00:00<?, ?it/s]"
      ]
     },
     "metadata": {},
     "output_type": "display_data"
    },
    {
     "name": "stdout",
     "output_type": "stream",
     "text": [
      "working on model 17\n"
     ]
    },
    {
     "data": {
      "application/vnd.jupyter.widget-view+json": {
       "model_id": "7012998f30b34af9b524d06979b3aed8",
       "version_major": 2,
       "version_minor": 0
      },
      "text/plain": [
       "  0%|          | 0/50 [00:00<?, ?it/s]"
      ]
     },
     "metadata": {},
     "output_type": "display_data"
    },
    {
     "name": "stdout",
     "output_type": "stream",
     "text": [
      "working on model 18\n"
     ]
    },
    {
     "data": {
      "application/vnd.jupyter.widget-view+json": {
       "model_id": "d7d9a38ad4974c74a7c3b9672e7749cd",
       "version_major": 2,
       "version_minor": 0
      },
      "text/plain": [
       "  0%|          | 0/33 [00:00<?, ?it/s]"
      ]
     },
     "metadata": {},
     "output_type": "display_data"
    },
    {
     "name": "stdout",
     "output_type": "stream",
     "text": [
      "working on model 19\n"
     ]
    },
    {
     "data": {
      "application/vnd.jupyter.widget-view+json": {
       "model_id": "bc08ed54f5ca48beb4e032bf7751c6e1",
       "version_major": 2,
       "version_minor": 0
      },
      "text/plain": [
       "  0%|          | 0/25 [00:00<?, ?it/s]"
      ]
     },
     "metadata": {},
     "output_type": "display_data"
    },
    {
     "name": "stdout",
     "output_type": "stream",
     "text": [
      "working on model 20\n"
     ]
    },
    {
     "data": {
      "application/vnd.jupyter.widget-view+json": {
       "model_id": "6cc534e020364df6a1fa38e06494d842",
       "version_major": 2,
       "version_minor": 0
      },
      "text/plain": [
       "  0%|          | 0/15 [00:00<?, ?it/s]"
      ]
     },
     "metadata": {},
     "output_type": "display_data"
    }
   ],
   "source": [
    "epochs = [20,9,30,30,30,30,15,25,18,18,18,20,20,20,25,20,25,50,33,25,15]\n",
    "batch = [8,4,8,8,8,15,5,5,4,5,5,5,8,4,5,5,4,8,12,5,5]\n",
    "LEARNING_RATE = 0.001\n",
    "NUM_FEATURES = 30\n",
    "DROPOUT = 0.7\n",
    "M = 2 # Number of neurons\n",
    "WEIGHT_DECAY = 0.7\n",
    "all_y_preds = []\n",
    "for i in range(21):\n",
    "    BATCH_SIZE = batch[i]\n",
    "    EPOCHS = epochs[i]\n",
    "    # split data\n",
    "    X_train, X_val, y_train, y_val = train_test_split(dfs_x[i], dfs_y[i], test_size=0.2, stratify=dfs_y[i], random_state=21)\n",
    "    X_test = dfs_x_test[i]\n",
    "    y_test = dfs_y_test[i]\n",
    "    # get top 30 features\n",
    "    rf = RandomForestClassifier(oob_score=True)\n",
    "    rf.fit(X_train, y_train)\n",
    "    imps = rfpimp.importances(rf, X_val, y_val)\n",
    "    imps['rank'] = imps['Importance'].rank()\n",
    "    top30 = list(imps.sort_values('rank').iloc[:30].index)\n",
    "    X_train = X_train[top30]\n",
    "    X_val = X_val[top30]\n",
    "    X_test = X_test[top30]\n",
    "    # normalize\n",
    "    X_train, X_val, y_train, y_val, X_test, y_test = normalize(X_train, X_val, y_train, y_val, X_test, y_test)\n",
    "    # get datasets\n",
    "    train_dataset, val_dataset, test_dataset = get_datasets(X_train, X_val, y_train, y_val, X_test, y_test)\n",
    "    # over sample\n",
    "    NUM_CLASSES = len(np.unique(y_train))\n",
    "    class_weights, weighted_sampler = over_sample(train_dataset, y_train)\n",
    "    # make dataloader\n",
    "    train_loader, val_loader, test_loader = make_loaders(train_dataset, val_dataset, test_dataset, weighted_sampler)\n",
    "    # initialize model with global hyper parameters\n",
    "    model = MulticlassClassification(num_feature = NUM_FEATURES, num_class=NUM_CLASSES,d=DROPOUT,M=M)\n",
    "    criterion = nn.CrossEntropyLoss(weight=class_weights)\n",
    "    optimizer = optim.Adam(model.parameters(), lr=LEARNING_RATE,weight_decay = WEIGHT_DECAY)\n",
    "    # train and predict on test data\n",
    "    print(f\"working on model {i}\")\n",
    "    y_pred_list = fit_predict(model, optimizer, criterion, train_loader)\n",
    "    all_y_preds.extend(y_pred_list)"
   ]
  },
  {
   "cell_type": "code",
   "execution_count": 2645,
   "metadata": {},
   "outputs": [
    {
     "name": "stdout",
     "output_type": "stream",
     "text": [
      "TEST ACCURACY :  0.53993\n"
     ]
    }
   ],
   "source": [
    "print(\"TEST ACCURACY : \",round(accuracy_score(y_test_all,all_y_preds),5))"
   ]
  },
  {
   "cell_type": "markdown",
   "metadata": {},
   "source": [
    "### Make Submission"
   ]
  },
  {
   "cell_type": "code",
   "execution_count": 2646,
   "metadata": {},
   "outputs": [],
   "source": [
    "test['target']=all_y_preds"
   ]
  },
  {
   "cell_type": "code",
   "execution_count": 2647,
   "metadata": {},
   "outputs": [],
   "source": [
    "submissions = test[['obs_id','target']]"
   ]
  },
  {
   "cell_type": "code",
   "execution_count": 2648,
   "metadata": {},
   "outputs": [],
   "source": [
    "submissions.to_csv('submissions.csv', index=False)"
   ]
  },
  {
   "cell_type": "code",
   "execution_count": 2649,
   "metadata": {},
   "outputs": [
    {
     "name": "stdout",
     "output_type": "stream",
     "text": [
      "100%|██████████████████████████████████████| 12.9k/12.9k [00:02<00:00, 4.56kB/s]\n",
      "Successfully submitted to ML2 USF 2021"
     ]
    }
   ],
   "source": [
    "! kaggle competitions submit -c ml2-usf-2021 -f submissions.csv -m \"3 Layer NN with sampling, BatchNorm and Dropout\""
   ]
  },
  {
   "cell_type": "code",
   "execution_count": 208,
   "metadata": {},
   "outputs": [
    {
     "name": "stdout",
     "output_type": "stream",
     "text": [
      "Submission Date : 2021-05-08 22:08:38.338391\n"
     ]
    }
   ],
   "source": [
    "print ('Submission Date : ' + str(datetime.datetime.today()))"
   ]
  }
 ],
 "metadata": {
  "kernelspec": {
   "display_name": "Python 3",
   "language": "python",
   "name": "python3"
  },
  "language_info": {
   "codemirror_mode": {
    "name": "ipython",
    "version": 3
   },
   "file_extension": ".py",
   "mimetype": "text/x-python",
   "name": "python",
   "nbconvert_exporter": "python",
   "pygments_lexer": "ipython3",
   "version": "3.8.2"
  }
 },
 "nbformat": 4,
 "nbformat_minor": 4
}
